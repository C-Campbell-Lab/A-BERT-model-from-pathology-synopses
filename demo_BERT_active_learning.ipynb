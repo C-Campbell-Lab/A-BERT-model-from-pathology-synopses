{
  "nbformat": 4,
  "nbformat_minor": 0,
  "metadata": {
    "colab": {
      "name": "demo BERT active learning.ipynb",
      "provenance": [],
      "authorship_tag": "ABX9TyMu2olB3JLEUQcm+SQOLJGJ",
      "include_colab_link": true
    },
    "kernelspec": {
      "name": "python3",
      "display_name": "Python 3"
    },
    "accelerator": "GPU",
    "widgets": {
      "application/vnd.jupyter.widget-state+json": {
        "a5628ce65648456783b86a7d29af042f": {
          "model_module": "@jupyter-widgets/controls",
          "model_name": "HBoxModel",
          "state": {
            "_view_name": "HBoxView",
            "_dom_classes": [],
            "_model_name": "HBoxModel",
            "_view_module": "@jupyter-widgets/controls",
            "_model_module_version": "1.5.0",
            "_view_count": null,
            "_view_module_version": "1.5.0",
            "box_style": "",
            "layout": "IPY_MODEL_151323963390498db605d86600222449",
            "_model_module": "@jupyter-widgets/controls",
            "children": [
              "IPY_MODEL_738fcb39b7b54ebe9fc5695b79e239ba",
              "IPY_MODEL_a485ede0ff31478e96a674b96c24e365",
              "IPY_MODEL_13d1bf80c8b34869891d1d179b37568c"
            ]
          }
        },
        "151323963390498db605d86600222449": {
          "model_module": "@jupyter-widgets/base",
          "model_name": "LayoutModel",
          "state": {
            "_view_name": "LayoutView",
            "grid_template_rows": null,
            "right": null,
            "justify_content": null,
            "_view_module": "@jupyter-widgets/base",
            "overflow": null,
            "_model_module_version": "1.2.0",
            "_view_count": null,
            "flex_flow": null,
            "width": null,
            "min_width": null,
            "border": null,
            "align_items": null,
            "bottom": null,
            "_model_module": "@jupyter-widgets/base",
            "top": null,
            "grid_column": null,
            "overflow_y": null,
            "overflow_x": null,
            "grid_auto_flow": null,
            "grid_area": null,
            "grid_template_columns": null,
            "flex": null,
            "_model_name": "LayoutModel",
            "justify_items": null,
            "grid_row": null,
            "max_height": null,
            "align_content": null,
            "visibility": null,
            "align_self": null,
            "height": null,
            "min_height": null,
            "padding": null,
            "grid_auto_rows": null,
            "grid_gap": null,
            "max_width": null,
            "order": null,
            "_view_module_version": "1.2.0",
            "grid_template_areas": null,
            "object_position": null,
            "object_fit": null,
            "grid_auto_columns": null,
            "margin": null,
            "display": null,
            "left": null
          }
        },
        "738fcb39b7b54ebe9fc5695b79e239ba": {
          "model_module": "@jupyter-widgets/controls",
          "model_name": "HTMLModel",
          "state": {
            "_view_name": "HTMLView",
            "style": "IPY_MODEL_531e7e07f5864564a7ca47c05309204e",
            "_dom_classes": [],
            "description": "",
            "_model_name": "HTMLModel",
            "placeholder": "​",
            "_view_module": "@jupyter-widgets/controls",
            "_model_module_version": "1.5.0",
            "value": "100%",
            "_view_count": null,
            "_view_module_version": "1.5.0",
            "description_tooltip": null,
            "_model_module": "@jupyter-widgets/controls",
            "layout": "IPY_MODEL_ce899c0a286f46f8b6948f01538240c3"
          }
        },
        "a485ede0ff31478e96a674b96c24e365": {
          "model_module": "@jupyter-widgets/controls",
          "model_name": "FloatProgressModel",
          "state": {
            "_view_name": "ProgressView",
            "style": "IPY_MODEL_4a810ed87bc34dc1b6e74f39057d6764",
            "_dom_classes": [],
            "description": "",
            "_model_name": "FloatProgressModel",
            "bar_style": "success",
            "max": 125,
            "_view_module": "@jupyter-widgets/controls",
            "_model_module_version": "1.5.0",
            "value": 125,
            "_view_count": null,
            "_view_module_version": "1.5.0",
            "orientation": "horizontal",
            "min": 0,
            "description_tooltip": null,
            "_model_module": "@jupyter-widgets/controls",
            "layout": "IPY_MODEL_70e5a5f793524ab383ca82089b30a4d7"
          }
        },
        "13d1bf80c8b34869891d1d179b37568c": {
          "model_module": "@jupyter-widgets/controls",
          "model_name": "HTMLModel",
          "state": {
            "_view_name": "HTMLView",
            "style": "IPY_MODEL_3efc961f4df249df8b5f3e1069027375",
            "_dom_classes": [],
            "description": "",
            "_model_name": "HTMLModel",
            "placeholder": "​",
            "_view_module": "@jupyter-widgets/controls",
            "_model_module_version": "1.5.0",
            "value": " 125/125 [00:03&lt;00:00, 33.65it/s]",
            "_view_count": null,
            "_view_module_version": "1.5.0",
            "description_tooltip": null,
            "_model_module": "@jupyter-widgets/controls",
            "layout": "IPY_MODEL_f8f4ea86db9040afa3fa4a25ce9790b5"
          }
        },
        "531e7e07f5864564a7ca47c05309204e": {
          "model_module": "@jupyter-widgets/controls",
          "model_name": "DescriptionStyleModel",
          "state": {
            "_view_name": "StyleView",
            "_model_name": "DescriptionStyleModel",
            "description_width": "",
            "_view_module": "@jupyter-widgets/base",
            "_model_module_version": "1.5.0",
            "_view_count": null,
            "_view_module_version": "1.2.0",
            "_model_module": "@jupyter-widgets/controls"
          }
        },
        "ce899c0a286f46f8b6948f01538240c3": {
          "model_module": "@jupyter-widgets/base",
          "model_name": "LayoutModel",
          "state": {
            "_view_name": "LayoutView",
            "grid_template_rows": null,
            "right": null,
            "justify_content": null,
            "_view_module": "@jupyter-widgets/base",
            "overflow": null,
            "_model_module_version": "1.2.0",
            "_view_count": null,
            "flex_flow": null,
            "width": null,
            "min_width": null,
            "border": null,
            "align_items": null,
            "bottom": null,
            "_model_module": "@jupyter-widgets/base",
            "top": null,
            "grid_column": null,
            "overflow_y": null,
            "overflow_x": null,
            "grid_auto_flow": null,
            "grid_area": null,
            "grid_template_columns": null,
            "flex": null,
            "_model_name": "LayoutModel",
            "justify_items": null,
            "grid_row": null,
            "max_height": null,
            "align_content": null,
            "visibility": null,
            "align_self": null,
            "height": null,
            "min_height": null,
            "padding": null,
            "grid_auto_rows": null,
            "grid_gap": null,
            "max_width": null,
            "order": null,
            "_view_module_version": "1.2.0",
            "grid_template_areas": null,
            "object_position": null,
            "object_fit": null,
            "grid_auto_columns": null,
            "margin": null,
            "display": null,
            "left": null
          }
        },
        "4a810ed87bc34dc1b6e74f39057d6764": {
          "model_module": "@jupyter-widgets/controls",
          "model_name": "ProgressStyleModel",
          "state": {
            "_view_name": "StyleView",
            "_model_name": "ProgressStyleModel",
            "description_width": "",
            "_view_module": "@jupyter-widgets/base",
            "_model_module_version": "1.5.0",
            "_view_count": null,
            "_view_module_version": "1.2.0",
            "bar_color": null,
            "_model_module": "@jupyter-widgets/controls"
          }
        },
        "70e5a5f793524ab383ca82089b30a4d7": {
          "model_module": "@jupyter-widgets/base",
          "model_name": "LayoutModel",
          "state": {
            "_view_name": "LayoutView",
            "grid_template_rows": null,
            "right": null,
            "justify_content": null,
            "_view_module": "@jupyter-widgets/base",
            "overflow": null,
            "_model_module_version": "1.2.0",
            "_view_count": null,
            "flex_flow": null,
            "width": null,
            "min_width": null,
            "border": null,
            "align_items": null,
            "bottom": null,
            "_model_module": "@jupyter-widgets/base",
            "top": null,
            "grid_column": null,
            "overflow_y": null,
            "overflow_x": null,
            "grid_auto_flow": null,
            "grid_area": null,
            "grid_template_columns": null,
            "flex": null,
            "_model_name": "LayoutModel",
            "justify_items": null,
            "grid_row": null,
            "max_height": null,
            "align_content": null,
            "visibility": null,
            "align_self": null,
            "height": null,
            "min_height": null,
            "padding": null,
            "grid_auto_rows": null,
            "grid_gap": null,
            "max_width": null,
            "order": null,
            "_view_module_version": "1.2.0",
            "grid_template_areas": null,
            "object_position": null,
            "object_fit": null,
            "grid_auto_columns": null,
            "margin": null,
            "display": null,
            "left": null
          }
        },
        "3efc961f4df249df8b5f3e1069027375": {
          "model_module": "@jupyter-widgets/controls",
          "model_name": "DescriptionStyleModel",
          "state": {
            "_view_name": "StyleView",
            "_model_name": "DescriptionStyleModel",
            "description_width": "",
            "_view_module": "@jupyter-widgets/base",
            "_model_module_version": "1.5.0",
            "_view_count": null,
            "_view_module_version": "1.2.0",
            "_model_module": "@jupyter-widgets/controls"
          }
        },
        "f8f4ea86db9040afa3fa4a25ce9790b5": {
          "model_module": "@jupyter-widgets/base",
          "model_name": "LayoutModel",
          "state": {
            "_view_name": "LayoutView",
            "grid_template_rows": null,
            "right": null,
            "justify_content": null,
            "_view_module": "@jupyter-widgets/base",
            "overflow": null,
            "_model_module_version": "1.2.0",
            "_view_count": null,
            "flex_flow": null,
            "width": null,
            "min_width": null,
            "border": null,
            "align_items": null,
            "bottom": null,
            "_model_module": "@jupyter-widgets/base",
            "top": null,
            "grid_column": null,
            "overflow_y": null,
            "overflow_x": null,
            "grid_auto_flow": null,
            "grid_area": null,
            "grid_template_columns": null,
            "flex": null,
            "_model_name": "LayoutModel",
            "justify_items": null,
            "grid_row": null,
            "max_height": null,
            "align_content": null,
            "visibility": null,
            "align_self": null,
            "height": null,
            "min_height": null,
            "padding": null,
            "grid_auto_rows": null,
            "grid_gap": null,
            "max_width": null,
            "order": null,
            "_view_module_version": "1.2.0",
            "grid_template_areas": null,
            "object_position": null,
            "object_fit": null,
            "grid_auto_columns": null,
            "margin": null,
            "display": null,
            "left": null
          }
        }
      }
    }
  },
  "cells": [
    {
      "cell_type": "markdown",
      "metadata": {
        "id": "view-in-github",
        "colab_type": "text"
      },
      "source": [
        "<a href=\"https://colab.research.google.com/github/KiyoshiMu/tagC/blob/master/demo_BERT_active_learning.ipynb\" target=\"_parent\"><img src=\"https://colab.research.google.com/assets/colab-badge.svg\" alt=\"Open In Colab\"/></a>"
      ]
    },
    {
      "cell_type": "code",
      "metadata": {
        "id": "ZHwVe9qXUibP"
      },
      "source": [
        "!pip -q install tagc --upgrade"
      ],
      "execution_count": null,
      "outputs": []
    },
    {
      "cell_type": "markdown",
      "metadata": {
        "id": "S0OZhPlFiwVp"
      },
      "source": [
        "Upload data.zip to /content"
      ]
    },
    {
      "cell_type": "code",
      "metadata": {
        "id": "_GUkFr3EcYaO"
      },
      "source": [
        "!unzip data.zip"
      ],
      "execution_count": null,
      "outputs": []
    },
    {
      "cell_type": "code",
      "metadata": {
        "id": "xSnpNGJKU5i9"
      },
      "source": [
        "import gc\r\n",
        "import random\r\n",
        "import shutil\r\n",
        "\r\n",
        "import torch\r\n",
        "from sklearn.preprocessing import MultiLabelBinarizer\r\n",
        "\r\n",
        "from tagc.domain import Params, RawData\r\n",
        "from tagc.io_utils import load_datazip\r\n",
        "from tagc.make_figs import make_figures\r\n",
        "from tagc.model import StandaloneModel\r\n",
        "from tagc.train import Pipeline\r\n",
        "from tagc.validation import eval_model\r\n",
        "\r\n",
        "random.seed(42)\r\n",
        "\r\n",
        "\r\n",
        "def train_main_model(\r\n",
        "    dataset: RawData, model_p=\"model\", outdir=\"out\", epoch=10, upsmaple=200\r\n",
        "):\r\n",
        "    keep_key = True\r\n",
        "    max_len = 150\r\n",
        "    dropout = 0.5\r\n",
        "    mlb = MultiLabelBinarizer().fit(dataset.y_tags)\r\n",
        "    params = Params(\r\n",
        "        dataset, max_len, upsmaple, dropout, \"bert-base-uncased\", keep_key, epoch\r\n",
        "    )\r\n",
        "    pipeline = Pipeline(params)\r\n",
        "    model_tmp = pipeline.train(output_dir=outdir)\r\n",
        "    model = StandaloneModel(\r\n",
        "        pipeline.model, pipeline.tokenizer, keep_key=keep_key, max_len=max_len\r\n",
        "    )\r\n",
        "    _, judges_count, _, _ = eval_model(model, dataset, 5, mlb, outdir)\r\n",
        "    print(judges_count)\r\n",
        "    pipeline.trainer.save_model(model_p)\r\n",
        "    del pipeline\r\n",
        "    gc.collect()\r\n",
        "    with torch.no_grad():\r\n",
        "        torch.cuda.empty_cache()\r\n",
        "    shutil.rmtree(model_tmp)"
      ],
      "execution_count": null,
      "outputs": []
    },
    {
      "cell_type": "markdown",
      "metadata": {
        "id": "X1nRfVKBW_Hm"
      },
      "source": [
        "The data that support the findings of this study are available on reasonable request from the corresponding author [CJVC], pending local REB and privacy office approval. The data are not publicly available due to them containing information that could compromise research participant privacy/consent."
      ]
    },
    {
      "cell_type": "markdown",
      "metadata": {
        "id": "K9IOsr03XTm0"
      },
      "source": [
        "## Train model"
      ]
    },
    {
      "cell_type": "code",
      "metadata": {
        "id": "qLU96Ga-WUP_"
      },
      "source": [
        "dataset_p = \"/content/standardDs.zip\"\r\n",
        "ds = load_datazip(dataset_p)\r\n",
        "train_main_model(ds)"
      ],
      "execution_count": null,
      "outputs": []
    },
    {
      "cell_type": "markdown",
      "metadata": {
        "id": "9H6p834-eg_b"
      },
      "source": [
        "## Analysis results"
      ]
    },
    {
      "cell_type": "code",
      "metadata": {
        "id": "WRMf-HrVay9y"
      },
      "source": [
        "# prepare unlabelled.json\r\n",
        "from tagc.make_figs import make_figures\r\n",
        "model_p = \"model\"\r\n",
        "outdir = \"figs\"\r\n",
        "unlabelled_p = \"/content/unlabelled.json\"\r\n",
        "make_figures(model_p, dataset_p, unlabelled_p, dst=outdir)"
      ],
      "execution_count": null,
      "outputs": []
    },
    {
      "cell_type": "markdown",
      "metadata": {
        "id": "NmJOw0fsdmpa"
      },
      "source": [
        "The /content/figs/label_tsne.pdf should have similar clusters like https://storage.googleapis.com/pathopatho/label_tsne.html\r\n",
        "\r\n",
        "The location of the clusters will be different from that in the Paper, due to the randomness of t-SNE.\r\n",
        "\r\n",
        "You can check other figures and compare them with the results in the Paper as well."
      ]
    },
    {
      "cell_type": "markdown",
      "metadata": {
        "id": "UpNXocCIkH_r"
      },
      "source": [
        "## Make embedding"
      ]
    },
    {
      "cell_type": "code",
      "metadata": {
        "id": "QDlbPDmqkHmk"
      },
      "source": [
        "import pickle\r\n",
        "from tagc.io_utils import load_json\r\n",
        "def embed(model_p, case_p):\r\n",
        "    cases = load_json(case_p)\r\n",
        "    model = StandaloneModel.from_path(model_p)\r\n",
        "    embed = model.predict(cases, pooled_output=True)\r\n",
        "    with open(\"embed.pkl\", \"wb\") as target:\r\n",
        "        pickle.dump(embed, target)"
      ],
      "execution_count": null,
      "outputs": []
    },
    {
      "cell_type": "code",
      "metadata": {
        "colab": {
          "base_uri": "https://localhost:8080/",
          "height": 49,
          "referenced_widgets": [
            "a5628ce65648456783b86a7d29af042f",
            "151323963390498db605d86600222449",
            "738fcb39b7b54ebe9fc5695b79e239ba",
            "a485ede0ff31478e96a674b96c24e365",
            "13d1bf80c8b34869891d1d179b37568c",
            "531e7e07f5864564a7ca47c05309204e",
            "ce899c0a286f46f8b6948f01538240c3",
            "4a810ed87bc34dc1b6e74f39057d6764",
            "70e5a5f793524ab383ca82089b30a4d7",
            "3efc961f4df249df8b5f3e1069027375",
            "f8f4ea86db9040afa3fa4a25ce9790b5"
          ]
        },
        "id": "WkBLtr67kbTd",
        "outputId": "b7ab3e7f-9d10-4c39-b387-343bc95582c3"
      },
      "source": [
        "embed(model_p, unlabelled_p)"
      ],
      "execution_count": null,
      "outputs": [
        {
          "output_type": "display_data",
          "data": {
            "application/vnd.jupyter.widget-view+json": {
              "model_id": "a5628ce65648456783b86a7d29af042f",
              "version_minor": 0,
              "version_major": 2
            },
            "text/plain": [
              "  0%|          | 0/125 [00:00<?, ?it/s]"
            ]
          },
          "metadata": {
            "tags": []
          }
        }
      ]
    },
    {
      "cell_type": "markdown",
      "metadata": {
        "id": "JmXkHA8zkpxq"
      },
      "source": [
        "/content/embed.pkl has the semantic embeddings of the /content/output/unlabelled.json\r\n",
        "\r\n",
        "You can load the embeddings like the following. Use them as index, we make a simple sematic search application. (https://kkkfff.web.app/#/)"
      ]
    },
    {
      "cell_type": "code",
      "metadata": {
        "id": "tiwHAnFskeNd"
      },
      "source": [
        "with open(\"embed.pkl\", \"rb\") as target:   \r\n",
        "    embedding = pickle.load(target)"
      ],
      "execution_count": null,
      "outputs": []
    },
    {
      "cell_type": "code",
      "metadata": {
        "colab": {
          "base_uri": "https://localhost:8080/"
        },
        "id": "3jcx7ImClWL9",
        "outputId": "3ac1a118-f225-44f7-de10-4064a11ca456"
      },
      "source": [
        "embedding.shape # 768-dim vecors for 1000 cases"
      ],
      "execution_count": null,
      "outputs": [
        {
          "output_type": "execute_result",
          "data": {
            "text/plain": [
              "(1000, 768)"
            ]
          },
          "metadata": {
            "tags": []
          },
          "execution_count": 15
        }
      ]
    },
    {
      "cell_type": "markdown",
      "metadata": {
        "id": "Zql3ZOrdFNRq"
      },
      "source": [
        "## Scripts"
      ]
    },
    {
      "cell_type": "code",
      "metadata": {
        "id": "GoXR5Mz5Fknp"
      },
      "source": [
        "!pip -q install tagc --upgrade"
      ],
      "execution_count": null,
      "outputs": []
    },
    {
      "cell_type": "code",
      "metadata": {
        "id": "6IQ7jj1eFctX"
      },
      "source": [
        "!git clone https://github.com/KiyoshiMu/tagC.git"
      ],
      "execution_count": null,
      "outputs": []
    },
    {
      "cell_type": "code",
      "metadata": {
        "colab": {
          "base_uri": "https://localhost:8080/"
        },
        "id": "NCdqRBJaGKOo",
        "outputId": "bdd2fdb9-65ff-4c03-9cba-b11f1b542512"
      },
      "source": [
        "%cd tagC/"
      ],
      "execution_count": null,
      "outputs": [
        {
          "output_type": "stream",
          "text": [
            "/content/tagC\n"
          ],
          "name": "stdout"
        }
      ]
    },
    {
      "cell_type": "markdown",
      "metadata": {
        "id": "WTP9qtJwiqF8"
      },
      "source": [
        "Upload data.zip to /content/tagC"
      ]
    },
    {
      "cell_type": "code",
      "metadata": {
        "id": "itBEa9WNGBXF"
      },
      "source": [
        "!unzip data.zip"
      ],
      "execution_count": null,
      "outputs": []
    },
    {
      "cell_type": "markdown",
      "metadata": {
        "id": "vom34hdCaKW4"
      },
      "source": [
        "### Dataset Creation by MCCV"
      ]
    },
    {
      "cell_type": "code",
      "metadata": {
        "id": "cNxiTn5MaNUj"
      },
      "source": [
        "!python3 make_dataset.py report.xlsx standardDs.zip standardDsTmp.zip mona_j.csv"
      ],
      "execution_count": null,
      "outputs": []
    },
    {
      "cell_type": "markdown",
      "metadata": {
        "id": "lBJssYeAaYZf"
      },
      "source": [
        "The outputs are in the **data** folder."
      ]
    },
    {
      "cell_type": "markdown",
      "metadata": {
        "id": "8rbuY5A_G7gB"
      },
      "source": [
        "### Train"
      ]
    },
    {
      "cell_type": "code",
      "metadata": {
        "id": "orJ3eSRpGToc"
      },
      "source": [
        "!python3 make_train.py standardDs.zip unlabelled.json out/model out --plot True --train True"
      ],
      "execution_count": null,
      "outputs": []
    },
    {
      "cell_type": "markdown",
      "metadata": {
        "id": "R2L0p9vQamS8"
      },
      "source": [
        "The model is in the **out/model** folder and its figuers are in **out** folder"
      ]
    },
    {
      "cell_type": "markdown",
      "metadata": {
        "id": "lYHtxCN5G-Po"
      },
      "source": [
        "### Active learning comparison\r\n"
      ]
    },
    {
      "cell_type": "markdown",
      "metadata": {
        "id": "h66so8mKk3D3"
      },
      "source": [
        "#### Models trained on data sampled by active learning."
      ]
    },
    {
      "cell_type": "code",
      "metadata": {
        "id": "ZCJOyLLkGgJl"
      },
      "source": [
        "!python3 make_exp.py lab0 --dataset_path standardDs.zip"
      ],
      "execution_count": null,
      "outputs": []
    },
    {
      "cell_type": "markdown",
      "metadata": {
        "id": "km_kir4mkyEV"
      },
      "source": [
        "The final model path is lab0/keepKey_200/model/"
      ]
    },
    {
      "cell_type": "markdown",
      "metadata": {
        "id": "DGBFxsKyHH6O"
      },
      "source": [
        "#### Models trained on data sampled by random selection"
      ]
    },
    {
      "cell_type": "code",
      "metadata": {
        "id": "yS83TZMeHM-O"
      },
      "source": [
        "!python3 make_exp.py lab0R --dataset_path randomDs.zip"
      ],
      "execution_count": null,
      "outputs": []
    },
    {
      "cell_type": "markdown",
      "metadata": {
        "id": "1kT68WWzk5-t"
      },
      "source": [
        "The final model path is lab0R/keepKey_200/model/"
      ]
    },
    {
      "cell_type": "markdown",
      "metadata": {
        "id": "Eb9J2v2CHccX"
      },
      "source": [
        "### Improvement from feedback"
      ]
    },
    {
      "cell_type": "code",
      "metadata": {
        "id": "NdG0sG0BHWqx"
      },
      "source": [
        "!python3 feedback.py [model_path] --eval_ret mona_j.csv \\\r\n",
        "--dataset_p standardDs.zip \\\r\n",
        "--ori_eval_p eval.json \\\r\n",
        "--outdir lab0/feedbackM \\\r\n",
        "--unlabelled_p unlabelled.json"
      ],
      "execution_count": null,
      "outputs": []
    }
  ]
}